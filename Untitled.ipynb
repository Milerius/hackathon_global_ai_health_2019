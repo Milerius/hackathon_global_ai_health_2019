{
 "cells": [
  {
   "cell_type": "code",
   "execution_count": 18,
   "metadata": {
    "collapsed": true
   },
   "outputs": [],
   "source": [
    "import pandas as pd\n",
    "import numpy as np\n",
    "import cv2"
   ]
  },
  {
   "cell_type": "code",
   "execution_count": 44,
   "metadata": {},
   "outputs": [],
   "source": [
    "import keras\n",
    "import h5py\n",
    "import resnet\n",
    "from keras.models import Model\n",
    "from keras.optimizers import Adam\n",
    "from keras.layers.normalization import BatchNormalization\n",
    "from keras.callbacks import EarlyStopping, ModelCheckpoint\n",
    "from keras.layers import Input, Conv2D, MaxPooling2D, Flatten\n",
    "from keras.layers import Dense, Dropout, Input, SeparableConv2D"
   ]
  },
  {
   "cell_type": "code",
   "execution_count": 59,
   "metadata": {
    "collapsed": true
   },
   "outputs": [],
   "source": [
    "\n",
    "cardio = pd.read_pickle('data/dataframe/cardio_train_df.pkl')\n",
    "nothing = pd.read_pickle('data/dataframe/nothing_train_df.pkl')\n",
    "pleural = pd.read_pickle('data/dataframe/pleural_train_df.pkl')\n",
    "lungs = pd.read_pickle('data/dataframe/lungs_train_df.pkl')"
   ]
  },
  {
   "cell_type": "code",
   "execution_count": 23,
   "metadata": {
    "collapsed": true
   },
   "outputs": [],
   "source": [
    "def preprocess(image):\n",
    "    \n",
    "    image = cv2.resize(image, (224, 224))\n",
    "    image = np.float32((image - np.min(image))/(np.max(image) - np.min(image)))\n",
    "    \n",
    "    return image\n",
    "\n",
    "\n",
    "def _read_images(csv_file):\n",
    "    \n",
    "    df = pd.read_csv(csv_file)\n",
    "    paths = df['Path'].tolist()\n",
    "    labels = df[df.columns[5:]].values\n",
    "    \n",
    "    return paths, labels\n",
    "\n",
    "\n",
    "def _image_batch(image_paths, batch_size=234):\n",
    "    \n",
    "    image_batch = np.zeros((batch_size, 224, 224, 3))\n",
    "    \n",
    "    for n,path in enumerate(image_paths):\n",
    "        \n",
    "        path = 'data/' + path\n",
    "        temp_img = cv2.imread(path)\n",
    "        temp_img = preprocess(temp_img)\n",
    "        image_batch[n] = temp_img\n",
    "        \n",
    "    return image_batch"
   ]
  },
  {
   "cell_type": "code",
   "execution_count": 24,
   "metadata": {},
   "outputs": [],
   "source": [
    "paths, labels = _read_images('data/CheXpert-v1.0-small/valid.csv')\n",
    "image_batch = _image_batch(paths)"
   ]
  },
  {
   "cell_type": "code",
   "execution_count": 70,
   "metadata": {},
   "outputs": [
    {
     "ename": "NameError",
     "evalue": "name 'main' is not defined",
     "output_type": "error",
     "traceback": [
      "\u001b[0;31m---------------------------------------------------------------------------\u001b[0m",
      "\u001b[0;31mNameError\u001b[0m                                 Traceback (most recent call last)",
      "\u001b[0;32m<ipython-input-70-950c80f0f0c7>\u001b[0m in \u001b[0;36m<module>\u001b[0;34m()\u001b[0m\n\u001b[0;32m----> 1\u001b[0;31m \u001b[0mmain\u001b[0m\u001b[0;34m.\u001b[0m\u001b[0mhead\u001b[0m\u001b[0;34m(\u001b[0m\u001b[0;34m)\u001b[0m\u001b[0;34m\u001b[0m\u001b[0m\n\u001b[0m",
      "\u001b[0;31mNameError\u001b[0m: name 'main' is not defined"
     ]
    }
   ],
   "source": [
    "main.head()"
   ]
  },
  {
   "cell_type": "code",
   "execution_count": 37,
   "metadata": {},
   "outputs": [
    {
     "ename": "NameError",
     "evalue": "name 'model' is not defined",
     "output_type": "error",
     "traceback": [
      "\u001b[0;31m---------------------------------------------------------------------------\u001b[0m",
      "\u001b[0;31mNameError\u001b[0m                                 Traceback (most recent call last)",
      "\u001b[0;32m<ipython-input-37-9a04451ffee2>\u001b[0m in \u001b[0;36m<module>\u001b[0;34m()\u001b[0m\n\u001b[0;32m----> 1\u001b[0;31m \u001b[0mmain_model\u001b[0m \u001b[0;34m=\u001b[0m \u001b[0mmodel\u001b[0m\u001b[0;34m.\u001b[0m\u001b[0mload\u001b[0m\u001b[0;34m(\u001b[0m\u001b[0;34m)\u001b[0m\u001b[0;34m\u001b[0m\u001b[0m\n\u001b[0m\u001b[1;32m      2\u001b[0m \u001b[0mcardio_model\u001b[0m \u001b[0;34m=\u001b[0m \u001b[0mmodel\u001b[0m\u001b[0;34m.\u001b[0m\u001b[0mload\u001b[0m\u001b[0;34m(\u001b[0m\u001b[0;34m)\u001b[0m\u001b[0;34m\u001b[0m\u001b[0m\n\u001b[1;32m      3\u001b[0m \u001b[0mnothing_model\u001b[0m \u001b[0;34m=\u001b[0m \u001b[0mmodel\u001b[0m\u001b[0;34m.\u001b[0m\u001b[0mload\u001b[0m\u001b[0;34m(\u001b[0m\u001b[0;34m)\u001b[0m\u001b[0;34m\u001b[0m\u001b[0m\n\u001b[1;32m      4\u001b[0m \u001b[0mlungs_model\u001b[0m \u001b[0;34m=\u001b[0m \u001b[0mmodel\u001b[0m\u001b[0;34m.\u001b[0m\u001b[0mload\u001b[0m\u001b[0;34m(\u001b[0m\u001b[0;34m)\u001b[0m\u001b[0;34m\u001b[0m\u001b[0m\n\u001b[1;32m      5\u001b[0m \u001b[0mpleural_model\u001b[0m \u001b[0;34m=\u001b[0m \u001b[0mmodel\u001b[0m\u001b[0;34m.\u001b[0m\u001b[0mload\u001b[0m\u001b[0;34m(\u001b[0m\u001b[0;34m)\u001b[0m\u001b[0;34m\u001b[0m\u001b[0m\n",
      "\u001b[0;31mNameError\u001b[0m: name 'model' is not defined"
     ]
    }
   ],
   "source": [
    "main_model = model.load()\n",
    "cardio_model = model.load()\n",
    "nothing_model = model.load()\n",
    "lungs_model = model.load()\n",
    "pleural_model = model.load()"
   ]
  },
  {
   "cell_type": "code",
   "execution_count": null,
   "metadata": {
    "collapsed": true
   },
   "outputs": [],
   "source": [
    "\"\"\"\n",
    "- set thresh\n",
    "- make prediction with main model\n",
    "- if scores exceed thres for any category \n",
    "    - further predict same image with model from category\n",
    "    - if prediction none, then all categories --> 0 \n",
    "    - else one or more categories are --> 1\n",
    "    \n",
    "\n",
    "\"\"\"\n",
    "test_df = pd.read_csv('data/CheXpert-v1.0-small/valid.csv')\n"
   ]
  },
  {
   "cell_type": "code",
   "execution_count": 45,
   "metadata": {
    "collapsed": true
   },
   "outputs": [],
   "source": [
    "def set_model(network, num_classes, include_top=False, weights='imagenet', input_shape=(224, 224, 3)):\n",
    "    \n",
    "    if network == 'resnet50':\n",
    "        base_model = resnet.ResNet50(include_top=include_top, weights=weights, input_shape=input_shape)\n",
    "    elif network == 'resnet101':\n",
    "        base_model = resnet.ResNet101(include_top=include_top, weights=weights, input_shape=input_shape)\n",
    "    elif network == 'resnet152':\n",
    "        base_model = resnet.ResNet152(include_top=include_top, weights=weights, input_shape=input_shape)\n",
    "    else:\n",
    "        raise ValueError(\"Oops, wrong network, {} doesn't exist\".format(network))\n",
    "        \n",
    "    x = base_model.output\n",
    "    x = Flatten()(x)\n",
    "    x = Dense(1024, activation='relu', name='fc1')(x)\n",
    "    x = Dropout(0.7, name='dropout1')(x)\n",
    "    x = Dense(128, activation='relu', name='fc2')(x)\n",
    "    x = Dropout(0.5, name='dropout2')(x)\n",
    "    x = Dense(num_classes, activation='sigmoid')(x)\n",
    "    \n",
    "    model = Model(inputs=base_model.input, outputs=x, name=network)\n",
    "    \n",
    "    return model"
   ]
  },
  {
   "cell_type": "code",
   "execution_count": 46,
   "metadata": {},
   "outputs": [
    {
     "name": "stderr",
     "output_type": "stream",
     "text": [
      "/home/allwyn/venv/lib/python3.6/site-packages/keras_applications/resnet50.py:265: UserWarning: The output shape of `ResNet50(include_top=False)` has been changed since Keras 2.2.0.\n",
      "  warnings.warn('The output shape of `ResNet50(include_top=False)` '\n"
     ]
    }
   ],
   "source": [
    "network = 'resnet50'\n",
    "part = 'cardio'\n",
    "num_classes = 3\n",
    "\n",
    "model = set_model(network, num_classes, include_top=False)"
   ]
  },
  {
   "cell_type": "code",
   "execution_count": 47,
   "metadata": {
    "collapsed": true
   },
   "outputs": [],
   "source": [
    "cardio_model = model.load_weights(\"data/snapshots/resnet50_cardio_03.h5\") "
   ]
  },
  {
   "cell_type": "code",
   "execution_count": null,
   "metadata": {
    "collapsed": true
   },
   "outputs": [],
   "source": [
    "def make_pred(part, model, image):\n",
    "    \n",
    "    image = image.reshape((1, 224, 224, 3))\n",
    "    pred = model.predict(image)\n",
    "    \n",
    "    return pred[:-1]\n",
    "    "
   ]
  },
  {
   "cell_type": "code",
   "execution_count": null,
   "metadata": {},
   "outputs": [],
   "source": [
    "thresh = 0.3\n",
    "main_pred = main_model.predict(image_batch)\n",
    "\n",
    "pred_val = np.zeros((234, 224, 224, 3))\n",
    "dict_m = {0:(nothing_model,'nothing'), \n",
    "          1:(cardio_model,'cardio'), \n",
    "          2:(lungs_model,'lungs'), \n",
    "          3:(pleural_model,'pleural')}\n",
    "\n",
    "\n",
    "\n",
    "\n",
    "\n",
    "\n",
    "for num, pred in enumerate(main_pred): #[[0,1,..1,1], [1,0,..,0,0], ...[0,0,..,1,1]]\n",
    "    \n",
    "    for n,p in enumerate(pred): # [0,1,..1,1]\n",
    "        if p > thresh:\n",
    "            model, part = dict_m[n]\n",
    "            mini_pred = make_pred(part, model, num):\n",
    "            \n",
    "            if \n",
    "    \n",
    "    \n",
    "    "
   ]
  },
  {
   "cell_type": "code",
   "execution_count": 67,
   "metadata": {},
   "outputs": [
    {
     "data": {
      "text/html": [
       "<div>\n",
       "<style>\n",
       "    .dataframe thead tr:only-child th {\n",
       "        text-align: right;\n",
       "    }\n",
       "\n",
       "    .dataframe thead th {\n",
       "        text-align: left;\n",
       "    }\n",
       "\n",
       "    .dataframe tbody tr th {\n",
       "        vertical-align: top;\n",
       "    }\n",
       "</style>\n",
       "<table border=\"1\" class=\"dataframe\">\n",
       "  <thead>\n",
       "    <tr style=\"text-align: right;\">\n",
       "      <th></th>\n",
       "      <th>Path</th>\n",
       "      <th>Pneumothorax</th>\n",
       "      <th>Pleural Other</th>\n",
       "      <th>Pleural Effusion</th>\n",
       "      <th>none</th>\n",
       "    </tr>\n",
       "  </thead>\n",
       "  <tbody>\n",
       "    <tr>\n",
       "      <th>0</th>\n",
       "      <td>CheXpert-v1.0-small/train/patient00001/study1/...</td>\n",
       "      <td>0.0</td>\n",
       "      <td>0.0</td>\n",
       "      <td>0.0</td>\n",
       "      <td>1.0</td>\n",
       "    </tr>\n",
       "    <tr>\n",
       "      <th>1</th>\n",
       "      <td>CheXpert-v1.0-small/train/patient00002/study2/...</td>\n",
       "      <td>0.0</td>\n",
       "      <td>0.0</td>\n",
       "      <td>1.0</td>\n",
       "      <td>0.0</td>\n",
       "    </tr>\n",
       "    <tr>\n",
       "      <th>2</th>\n",
       "      <td>CheXpert-v1.0-small/train/patient00002/study1/...</td>\n",
       "      <td>0.0</td>\n",
       "      <td>0.0</td>\n",
       "      <td>0.0</td>\n",
       "      <td>1.0</td>\n",
       "    </tr>\n",
       "    <tr>\n",
       "      <th>3</th>\n",
       "      <td>CheXpert-v1.0-small/train/patient00002/study1/...</td>\n",
       "      <td>0.0</td>\n",
       "      <td>0.0</td>\n",
       "      <td>0.0</td>\n",
       "      <td>1.0</td>\n",
       "    </tr>\n",
       "    <tr>\n",
       "      <th>4</th>\n",
       "      <td>CheXpert-v1.0-small/train/patient00003/study1/...</td>\n",
       "      <td>0.0</td>\n",
       "      <td>0.0</td>\n",
       "      <td>0.0</td>\n",
       "      <td>1.0</td>\n",
       "    </tr>\n",
       "  </tbody>\n",
       "</table>\n",
       "</div>"
      ],
      "text/plain": [
       "                                                Path  Pneumothorax  \\\n",
       "0  CheXpert-v1.0-small/train/patient00001/study1/...           0.0   \n",
       "1  CheXpert-v1.0-small/train/patient00002/study2/...           0.0   \n",
       "2  CheXpert-v1.0-small/train/patient00002/study1/...           0.0   \n",
       "3  CheXpert-v1.0-small/train/patient00002/study1/...           0.0   \n",
       "4  CheXpert-v1.0-small/train/patient00003/study1/...           0.0   \n",
       "\n",
       "   Pleural Other  Pleural Effusion  none  \n",
       "0            0.0               0.0   1.0  \n",
       "1            0.0               1.0   0.0  \n",
       "2            0.0               0.0   1.0  \n",
       "3            0.0               0.0   1.0  \n",
       "4            0.0               0.0   1.0  "
      ]
     },
     "execution_count": 67,
     "metadata": {},
     "output_type": "execute_result"
    }
   ],
   "source": [
    "pleural.head()"
   ]
  },
  {
   "cell_type": "code",
   "execution_count": 65,
   "metadata": {
    "collapsed": true
   },
   "outputs": [],
   "source": [
    "temp = [0.1, 0.5, 0.3, 0.1]"
   ]
  },
  {
   "cell_type": "code",
   "execution_count": 66,
   "metadata": {},
   "outputs": [
    {
     "data": {
      "text/plain": [
       "[0.1, 0.5, 0.3]"
      ]
     },
     "execution_count": 66,
     "metadata": {},
     "output_type": "execute_result"
    }
   ],
   "source": [
    "t"
   ]
  },
  {
   "cell_type": "code",
   "execution_count": null,
   "metadata": {
    "collapsed": true
   },
   "outputs": [],
   "source": [
    "temp"
   ]
  }
 ],
 "metadata": {
  "kernelspec": {
   "display_name": "hacka",
   "language": "python",
   "name": "hacka"
  },
  "language_info": {
   "codemirror_mode": {
    "name": "ipython",
    "version": 3
   },
   "file_extension": ".py",
   "mimetype": "text/x-python",
   "name": "python",
   "nbconvert_exporter": "python",
   "pygments_lexer": "ipython3",
   "version": "3.6.3"
  }
 },
 "nbformat": 4,
 "nbformat_minor": 2
}
